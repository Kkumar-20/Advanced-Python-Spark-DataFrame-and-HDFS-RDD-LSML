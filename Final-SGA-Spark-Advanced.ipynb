{
 "cells": [
  {
   "cell_type": "code",
   "execution_count": 1,
   "id": "ff18953f-3162-4241-b0ef-e447ae6dae7f",
   "metadata": {
    "tags": []
   },
   "outputs": [],
   "source": [
    "import tqdm.notebook as tqdm\n",
    "import numpy as np\n",
    "import scipy\n",
    "import sklearn"
   ]
  },
  {
   "cell_type": "markdown",
   "id": "20bdbb40-2ca5-4c14-8b60-813f7f91604b",
   "metadata": {},
   "source": [
    "# Spark"
   ]
  },
  {
   "cell_type": "code",
   "execution_count": 2,
   "id": "9021b377-6ce7-4453-85da-af3b7a676f21",
   "metadata": {
    "tags": []
   },
   "outputs": [
    {
     "name": "stdout",
     "output_type": "stream",
     "text": [
      "jovyan\n",
      " * Starting OpenBSD Secure Shell server sshd\n",
      "start-stop-daemon: unable to set gid to 0 (Operation not permitted)\n",
      "   ...fail!\n",
      " * sshd is running\n",
      "Starting namenodes on [localhost]\n",
      "localhost: Warning: Permanently added 'localhost' (ED25519) to the list of known hosts.\n",
      "localhost: namenode is running as process 155.  Stop it first and ensure /tmp/hadoop-jovyan-namenode.pid file is empty before retry.\n",
      "Starting datanodes\n",
      "localhost: Warning: Permanently added 'localhost' (ED25519) to the list of known hosts.\n",
      "localhost: datanode is running as process 262.  Stop it first and ensure /tmp/hadoop-jovyan-datanode.pid file is empty before retry.\n",
      "Starting secondary namenodes [15aa28d30d56]\n",
      "15aa28d30d56: Warning: Permanently added '15aa28d30d56' (ED25519) to the list of known hosts.\n",
      "15aa28d30d56: secondarynamenode is running as process 447.  Stop it first and ensure /tmp/hadoop-jovyan-secondarynamenode.pid file is empty before retry.\n",
      "Starting resourcemanager\n",
      "resourcemanager is running as process 689.  Stop it first and ensure /tmp/hadoop-jovyan-resourcemanager.pid file is empty before retry.\n",
      "Starting nodemanagers\n",
      "localhost: Warning: Permanently added 'localhost' (ED25519) to the list of known hosts.\n",
      "localhost: nodemanager is running as process 790.  Stop it first and ensure /tmp/hadoop-jovyan-nodemanager.pid file is empty before retry.\n",
      "WARNING: Use of this script to start the MR JobHistory daemon is deprecated.\n",
      "WARNING: Attempting to execute replacement \"mapred --daemon start\" instead.\n",
      "689 org.apache.hadoop.yarn.server.resourcemanager.ResourceManager\n",
      "3395 sun.tools.jps.Jps -lm\n",
      "790 org.apache.hadoop.yarn.server.nodemanager.NodeManager\n",
      "262 org.apache.hadoop.hdfs.server.datanode.DataNode\n",
      "3367 org.apache.hadoop.mapreduce.v2.hs.JobHistoryServer\n",
      "155 org.apache.hadoop.hdfs.server.namenode.NameNode\n",
      "447 org.apache.hadoop.hdfs.server.namenode.SecondaryNameNode\n",
      "Configured Capacity: 62671097856 (58.37 GB)\n",
      "Present Capacity: 24886300672 (23.18 GB)\n",
      "DFS Remaining: 23510663168 (21.90 GB)\n",
      "DFS Used: 1375637504 (1.28 GB)\n",
      "DFS Used%: 5.53%\n",
      "Replicated Blocks:\n",
      "\tUnder replicated blocks: 0\n",
      "\tBlocks with corrupt replicas: 0\n",
      "\tMissing blocks: 0\n",
      "\tMissing blocks (with replication factor 1): 0\n",
      "\tLow redundancy blocks with highest priority to recover: 0\n",
      "\tPending deletion blocks: 0\n",
      "Erasure Coded Block Groups: \n",
      "\tLow redundancy block groups: 0\n",
      "\tBlock groups with corrupt internal blocks: 0\n",
      "\tMissing block groups: 0\n",
      "\tLow redundancy blocks with highest priority to recover: 0\n",
      "\tPending deletion blocks: 0\n",
      "\n",
      "-------------------------------------------------\n",
      "Live datanodes (1):\n",
      "\n",
      "Name: 127.0.0.1:9866 (localhost)\n",
      "Hostname: 15aa28d30d56\n",
      "Decommission Status : Normal\n",
      "Configured Capacity: 62671097856 (58.37 GB)\n",
      "DFS Used: 1375637504 (1.28 GB)\n",
      "Non DFS Used: 34568081408 (32.19 GB)\n",
      "DFS Remaining: 23510663168 (21.90 GB)\n",
      "DFS Used%: 2.20%\n",
      "DFS Remaining%: 37.51%\n",
      "Configured Cache Capacity: 0 (0 B)\n",
      "Cache Used: 0 (0 B)\n",
      "Cache Remaining: 0 (0 B)\n",
      "Cache Used%: 100.00%\n",
      "Cache Remaining%: 0.00%\n",
      "Xceivers: 0\n",
      "Last contact: Wed May 10 18:50:20 UTC 2023\n",
      "Last Block Report: Wed May 10 18:34:20 UTC 2023\n",
      "Num of Blocks: 91\n",
      "\n",
      "\n",
      "chmod: changing permissions of '/home/jovyan/jupyter.log': Operation not permitted\n",
      "chmod: changing permissions of '/home/jovyan/nginx.log': Operation not permitted\n",
      "chmod: changing permissions of '/home/jovyan/error.log': Operation not permitted\n",
      "chmod: changing permissions of '/home/jovyan/access.log': Operation not permitted\n"
     ]
    }
   ],
   "source": [
    "! /home/jovyan/start-hadoop.sh"
   ]
  },
  {
   "cell_type": "code",
   "execution_count": 3,
   "id": "debb65f2-5d75-418e-8ba2-f8de1c26187b",
   "metadata": {
    "tags": []
   },
   "outputs": [
    {
     "name": "stderr",
     "output_type": "stream",
     "text": [
      "Setting default log level to \"WARN\".\n",
      "To adjust logging level use sc.setLogLevel(newLevel). For SparkR, use setLogLevel(newLevel).\n",
      "2023-05-10 18:50:48,154 WARN yarn.Client: Neither spark.yarn.jars nor spark.yarn.archive is set, falling back to uploading libraries under SPARK_HOME.\n"
     ]
    }
   ],
   "source": [
    "import findspark\n",
    "findspark.init()\n",
    "\n",
    "import pyspark\n",
    "sc = pyspark.SparkContext(appName='jupyter')\n",
    "\n",
    "# Convert Spark RDD to Spark DataFrame\n",
    "\n",
    "from pyspark.sql import SparkSession, Row\n",
    "se = SparkSession(sc)"
   ]
  },
  {
   "cell_type": "markdown",
   "id": "849e3102-26d7-478d-ac7e-58539545d152",
   "metadata": {},
   "source": [
    "## HDFS"
   ]
  },
  {
   "cell_type": "code",
   "execution_count": 4,
   "id": "3024e431-9a91-481d-881c-53f1e7bb002e",
   "metadata": {
    "tags": []
   },
   "outputs": [
    {
     "name": "stdout",
     "output_type": "stream",
     "text": [
      "Filesystem               Size   Used  Available  Use%\n",
      "hdfs://localhost:9000  58.4 G  1.6 G     21.3 G    3%\n"
     ]
    }
   ],
   "source": [
    "! hdfs dfs -df -h"
   ]
  },
  {
   "cell_type": "code",
   "execution_count": 6,
   "id": "88c0b8f7-873f-4d68-9b77-ec2e12858063",
   "metadata": {
    "tags": []
   },
   "outputs": [
    {
     "name": "stdout",
     "output_type": "stream",
     "text": [
      "uuid,document_id,timestamp,platform,geo_location,traffic_source\n",
      "1fd5f051fba643,120,31905835,1,RS,2\n",
      "8557aa9004be3b,120,32053104,1,VN>44,2\n",
      "c351b277a358f0,120,54013023,1,KR>12,1\n",
      "8205775c5387f9,120,44196592,1,IN>16,2\n"
     ]
    }
   ],
   "source": [
    "! head -n 5 page_views_sample.csv"
   ]
  },
  {
   "cell_type": "code",
   "execution_count": 15,
   "id": "f491dbd4-3557-4390-bb8c-fa101d8607b6",
   "metadata": {
    "tags": []
   },
   "outputs": [
    {
     "name": "stdout",
     "output_type": "stream",
     "text": [
      "document_id,topic_id,confidence_level\n",
      "1595802,140,0.0731131601068925\n",
      "1595802,16,0.0594164867373976\n",
      "1595802,143,0.0454207537554526\n",
      "1595802,170,0.0388674285182961\n"
     ]
    }
   ],
   "source": [
    "! head -n 5 documents_topics.csv"
   ]
  },
  {
   "cell_type": "code",
   "execution_count": 9,
   "id": "067d26ad-a7ef-4fd1-bdbd-2b4954eca153",
   "metadata": {
    "tags": []
   },
   "outputs": [
    {
     "name": "stdout",
     "output_type": "stream",
     "text": [
      "copyFromLocal: `page_views_sample.csv': File exists\n"
     ]
    }
   ],
   "source": [
    "! hadoop fs -copyFromLocal page_views_sample.csv"
   ]
  },
  {
   "cell_type": "code",
   "execution_count": 12,
   "id": "040755b7-1935-4eb1-ac1d-2725548a5b74",
   "metadata": {
    "tags": []
   },
   "outputs": [],
   "source": [
    "! hadoop fs -copyFromLocal documents_topics.csv"
   ]
  },
  {
   "cell_type": "code",
   "execution_count": 13,
   "id": "329fa6cf-bca7-415f-a519-2a1352d0abf2",
   "metadata": {
    "tags": []
   },
   "outputs": [
    {
     "name": "stdout",
     "output_type": "stream",
     "text": [
      "Found 2 items\n",
      "drwxrwx---   - root   supergroup          0 2023-05-10 17:59 /tmp\n",
      "drwxr-xr-x   - jovyan supergroup          0 2023-05-10 17:59 /user\n"
     ]
    }
   ],
   "source": [
    "! hdfs dfs -ls /"
   ]
  },
  {
   "cell_type": "code",
   "execution_count": 14,
   "id": "407c54d0-1da1-46ba-9aab-bb4f4bf3656b",
   "metadata": {
    "tags": []
   },
   "outputs": [
    {
     "name": "stdout",
     "output_type": "stream",
     "text": [
      "Found 3 items\n",
      "drwxr-xr-x   - jovyan supergroup          0 2023-05-10 18:50 .sparkStaging\n",
      "-rw-r--r--   1 jovyan supergroup      226 M 2023-05-10 18:57 documents_topics.csv\n",
      "-rw-r--r--   1 jovyan supergroup    433.3 M 2023-05-10 18:09 page_views_sample.csv\n"
     ]
    }
   ],
   "source": [
    "! hadoop fs -ls -h"
   ]
  },
  {
   "cell_type": "markdown",
   "id": "7b88364e-8a50-4130-b942-7b398b313a09",
   "metadata": {},
   "source": [
    "## Evaluation Assignment"
   ]
  },
  {
   "cell_type": "markdown",
   "id": "e718bb71-57fd-4dff-9ede-dbfa80f4858e",
   "metadata": {},
   "source": [
    "Data: outbrain click prediction\n",
    "\n",
    "Tasks:\n",
    "Using Spark RDD, DataFrame API and Python, calculate:\n",
    "\n",
    "**1**. Top 10 most visited document_ids in the page_views_sample log\n",
    "\n",
    "**2**. How many users have at least 2 different traffic_sources in the page_views_sample log (note the value is not a count, it's an encoded enum)\n",
    "\n",
    "**3***. Top 10 most visited topic_ids in page_views_sample log (use documents_topics table)"
   ]
  },
  {
   "cell_type": "markdown",
   "id": "08bbc4e8-6c66-4973-a35b-d943809e2099",
   "metadata": {},
   "source": [
    "The submission format is the result.json json file with top_10_documents, users and top_10_topics keys.\n",
    "For TOP-10 results, the answer must be written in the form of a sheet ordered from TOP-1 to TOP-10 with an id.\n",
    "\n",
    "result.json example:\n",
    "\n",
    "    {\n",
    "        \"top_10_documents\": [\n",
    "            111,\n",
    "            222,\n",
    "            333,\n",
    "            ...,\n",
    "            1010\n",
    "        ],\n",
    "        \"users\": 10000,\n",
    "        \"top_10_topics\": [\n",
    "            11,\n",
    "            22,\n",
    "            33,\n",
    "            ...,\n",
    "            101\n",
    "        ]\n",
    "    }"
   ]
  },
  {
   "cell_type": "markdown",
   "id": "1dfa8c0d-9994-47d5-beb1-4c0d8ba02181",
   "metadata": {},
   "source": [
    "### Spark DataFrame, RDD and Python "
   ]
  },
  {
   "cell_type": "markdown",
   "id": "40517749-5c72-427b-a008-4e8928ed4a85",
   "metadata": {},
   "source": [
    "#### 1. Top 10 most visited document_ids in the page_views_sample log"
   ]
  },
  {
   "cell_type": "code",
   "execution_count": 16,
   "id": "147252d1-4893-49b8-bec7-155e1736db29",
   "metadata": {
    "tags": []
   },
   "outputs": [
    {
     "name": "stderr",
     "output_type": "stream",
     "text": [
      "[Stage 1:>                                                          (0 + 1) / 1]\r"
     ]
    },
    {
     "name": "stdout",
     "output_type": "stream",
     "text": [
      "+--------------+-----------+---------+--------+------------+--------------+\n",
      "|          uuid|document_id|timestamp|platform|geo_location|traffic_source|\n",
      "+--------------+-----------+---------+--------+------------+--------------+\n",
      "|1fd5f051fba643|        120| 31905835|       1|          RS|             2|\n",
      "|8557aa9004be3b|        120| 32053104|       1|       VN>44|             2|\n",
      "|c351b277a358f0|        120| 54013023|       1|       KR>12|             1|\n",
      "|8205775c5387f9|        120| 44196592|       1|       IN>16|             2|\n",
      "|9cb0ccd8458371|        120| 65817371|       1|   US>CA>807|             2|\n",
      "|2aa611f32875c7|        120| 71495491|       1|       CA>ON|             2|\n",
      "|f55a6eaf2b34ab|        120| 73309199|       1|       BR>27|             2|\n",
      "|cc01b582c8cbff|        120| 50033577|       1|       CA>BC|             2|\n",
      "|6c802978b8dd4d|        120| 66590306|       1|       CA>ON|             2|\n",
      "|f4e423314303ff|        120| 48314254|       1|   US>LA>622|             1|\n",
      "|3937372ca2709b|        120| 24360074|       1|          NO|             2|\n",
      "|31f8d101c6a851|        120| 13847456|       1|       PH>D9|             2|\n",
      "|67606983fe1acf|        984| 82129416|       2|   US>OK>671|             2|\n",
      "|3f9d5b09ac4a0a|        984| 82583638|       2|          US|             2|\n",
      "|3dd8a359aa8699|        984| 59439284|       2|   US>MD>511|             2|\n",
      "|95e966c81b9316|        984|   983791|       3|   US>AL>698|             2|\n",
      "|483cf1feb3e47c|        984| 17944009|       2|   US>MI>505|             1|\n",
      "|f7baf0caf201ca|        984| 37096677|       2|       CA>AB|             2|\n",
      "|7a408fe90c02b3|        984| 30457643|       1|          PH|             1|\n",
      "|9ee2877617838a|        984| 86093121|       3|   US>MN>613|             2|\n",
      "+--------------+-----------+---------+--------+------------+--------------+\n",
      "only showing top 20 rows\n",
      "\n"
     ]
    },
    {
     "name": "stderr",
     "output_type": "stream",
     "text": [
      "                                                                                \r"
     ]
    }
   ],
   "source": [
    "page_views_sample = se.read.csv(\"page_views_sample.csv\", header=True)\n",
    "page_views_sample.show()"
   ]
  },
  {
   "cell_type": "code",
   "execution_count": 74,
   "id": "64986bf0-53b0-4c62-a913-853d4ac7ad94",
   "metadata": {
    "tags": []
   },
   "outputs": [],
   "source": [
    "from pyspark.sql.functions import desc\n",
    "\n",
    "# group by document_id, count the rows, and select the top 10 rows\n",
    "Most_Visit_Doc = (\n",
    "    page_views_sample.groupBy(\"document_id\")\n",
    "      .agg({\"*\": \"count\"})\n",
    "      .withColumnRenamed(\"count(1)\", \"count\")\n",
    "      .orderBy(desc(\"count\"))\n",
    "      .limit(10)\n",
    ")"
   ]
  },
  {
   "cell_type": "markdown",
   "id": "11deec4c-3044-46c4-9fee-a671e0bf580c",
   "metadata": {},
   "source": [
    "### Top 10 most visited document_ids"
   ]
  },
  {
   "cell_type": "code",
   "execution_count": 75,
   "id": "c7559e76-1449-4a3c-b371-7e510af29e9a",
   "metadata": {
    "tags": []
   },
   "outputs": [
    {
     "name": "stderr",
     "output_type": "stream",
     "text": [
      "                                                                                \r"
     ]
    },
    {
     "data": {
      "text/plain": [
       "[1811567,\n",
       " 234,\n",
       " 42744,\n",
       " 1858440,\n",
       " 1780813,\n",
       " 60164,\n",
       " 1790442,\n",
       " 1877626,\n",
       " 1821895,\n",
       " 732651]"
      ]
     },
     "execution_count": 75,
     "metadata": {},
     "output_type": "execute_result"
    }
   ],
   "source": [
    "# convert the result into a list of integers\n",
    "Most_Visit_Doc = [int(row[\"document_id\"]) for row in Most_Visit_Doc.collect()]\n",
    "Most_Visit_Doc"
   ]
  },
  {
   "cell_type": "markdown",
   "id": "c7bb11be-a264-4ef4-ab5c-2f92f5edfe6c",
   "metadata": {},
   "source": [
    "#### 2. Users have at least 2 different traffic_sources in the page_views_sample log (note the value is not a count, it's an encoded enum)"
   ]
  },
  {
   "cell_type": "code",
   "execution_count": 23,
   "id": "13188682-c77b-442b-b84f-71d99e8b8b67",
   "metadata": {
    "tags": []
   },
   "outputs": [
    {
     "name": "stderr",
     "output_type": "stream",
     "text": [
      "                                                                                \r"
     ]
    }
   ],
   "source": [
    "from pyspark.sql.functions import countDistinct\n",
    "from pyspark.sql.functions import col\n",
    "\n",
    "#Group By uuid, aggregate them by the number of distinct sources, filter it \n",
    "# and count the number of distinct traffic sources for each uuid\n",
    "At_Least_u = (\n",
    "      page_views_sample.select(\"uuid\", \"traffic_source\")\n",
    "        .distinct()\n",
    "        .groupBy(\"uuid\")\n",
    "        .agg(countDistinct(\"traffic_source\").alias(\"distinct_traffic_sources\"))\n",
    "        .filter(col(\"distinct_traffic_sources\") >= 2)\n",
    "        .count()\n",
    ")"
   ]
  },
  {
   "cell_type": "markdown",
   "id": "15021b76-61f8-4cb1-867b-7a0e85a94602",
   "metadata": {},
   "source": [
    "### Users have at least 2 different traffic_sources"
   ]
  },
  {
   "cell_type": "code",
   "execution_count": 24,
   "id": "c849d2f9-3925-489f-ab94-471ad5be7307",
   "metadata": {
    "tags": []
   },
   "outputs": [
    {
     "data": {
      "text/plain": [
       "98080"
      ]
     },
     "execution_count": 24,
     "metadata": {},
     "output_type": "execute_result"
    }
   ],
   "source": [
    "At_Least_u"
   ]
  },
  {
   "cell_type": "markdown",
   "id": "f0a6cc27-a28a-4396-9620-317d38fc5b89",
   "metadata": {},
   "source": [
    "#### 3. Top 10 most visited topic_ids in page_views_sample log (use documents_topics table)"
   ]
  },
  {
   "cell_type": "code",
   "execution_count": 25,
   "id": "92f7b71c-ac2d-4687-9c60-896a9ebcd1a7",
   "metadata": {
    "tags": []
   },
   "outputs": [
    {
     "name": "stderr",
     "output_type": "stream",
     "text": [
      "                                                                                \r"
     ]
    },
    {
     "name": "stdout",
     "output_type": "stream",
     "text": [
      "+-----------+--------+-------------------+\n",
      "|document_id|topic_id|   confidence_level|\n",
      "+-----------+--------+-------------------+\n",
      "|    1595802|     140| 0.0731131601068925|\n",
      "|    1595802|      16| 0.0594164867373976|\n",
      "|    1595802|     143| 0.0454207537554526|\n",
      "|    1595802|     170| 0.0388674285182961|\n",
      "|    1524246|     113|  0.196450402209685|\n",
      "|    1524246|     260|   0.14287816210395|\n",
      "|    1524246|      92| 0.0331591277639303|\n",
      "|    1524246|     168| 0.0140903418233461|\n",
      "|    1524246|      54|0.00878222028049753|\n",
      "|    1524246|     207|0.00828237207366929|\n",
      "|    1617787|     113|  0.216892316441472|\n",
      "|    1617787|     260|  0.096312506979167|\n",
      "|    1617787|     258| 0.0487299672992729|\n",
      "|    1617787|      10| 0.0311358537054966|\n",
      "|    1617787|     168| 0.0131200552985547|\n",
      "|    1617787|     148| 0.0131103270369802|\n",
      "|    1615583|      89|  0.316306499636243|\n",
      "|    1615583|     198| 0.0157218239706048|\n",
      "|    1615460|     260| 0.0979641463762194|\n",
      "|    1615460|      26| 0.0145508920589849|\n",
      "+-----------+--------+-------------------+\n",
      "only showing top 20 rows\n",
      "\n"
     ]
    }
   ],
   "source": [
    "documents_topics = se.read.csv(\"documents_topics.csv\", header=True)\n",
    "documents_topics.show()"
   ]
  },
  {
   "cell_type": "markdown",
   "id": "ac22103c-da3d-482b-9471-3522218d4445",
   "metadata": {},
   "source": [
    "#### Inner Joint"
   ]
  },
  {
   "cell_type": "code",
   "execution_count": 95,
   "id": "e567883e-6786-46ca-b97b-cc6a66d306e0",
   "metadata": {
    "tags": []
   },
   "outputs": [],
   "source": [
    "Topic_Id = page_views_sample.join(documents_topics, on=\"document_id\", how=\"inner\")"
   ]
  },
  {
   "cell_type": "markdown",
   "id": "426f8a9a-3bf4-4564-8439-5ad55fdfd2e0",
   "metadata": {},
   "source": [
    "##### Group By \"topic_id\", Aggregate and Count, Rename the Column, Desending Order the Result and Top 10 Result"
   ]
  },
  {
   "cell_type": "code",
   "execution_count": 96,
   "id": "ddbaf287-fe8e-44ba-b776-8d3d588ba07a",
   "metadata": {
    "tags": []
   },
   "outputs": [],
   "source": [
    "Most_Visit_Topic_Id = (\n",
    "    Topic_Id.groupBy(\"topic_id\")\n",
    "        .agg({\"*\": \"count\"})\n",
    "        .withColumnRenamed(\"count(1)\", \"count\")\n",
    "        .orderBy(desc(\"count\"))\n",
    "        .limit(10)\n",
    ")"
   ]
  },
  {
   "cell_type": "markdown",
   "id": "2246d0fb-e4b9-41bb-a45a-dcae96ea4aa0",
   "metadata": {},
   "source": [
    "### Top 10 most visited topic_ids"
   ]
  },
  {
   "cell_type": "code",
   "execution_count": 98,
   "id": "6e0a9b80-e06f-4534-a7e1-f66c25efa4ac",
   "metadata": {
    "tags": []
   },
   "outputs": [
    {
     "data": {
      "text/plain": [
       "[20, 16, 216, 136, 140, 143, 36, 97, 8, 269]"
      ]
     },
     "execution_count": 98,
     "metadata": {},
     "output_type": "execute_result"
    }
   ],
   "source": [
    "Most_Visit_Topic_Id = [int(row[\"topic_id\"]) for row in Most_Visit_Topic_Id.collect()]\n",
    "Most_Visit_Topic_Id"
   ]
  },
  {
   "cell_type": "markdown",
   "id": "b8b2fc1e-cca5-4774-8982-2582756219fe",
   "metadata": {},
   "source": [
    "### DUMP BY JSON"
   ]
  },
  {
   "cell_type": "code",
   "execution_count": 99,
   "id": "8fde7ad7-ab23-4901-92fe-21a1715c0400",
   "metadata": {
    "tags": []
   },
   "outputs": [],
   "source": [
    "import json\n",
    "\n",
    "data = {\n",
    "    \"top_10_documents\": Most_Visit_Doc,\n",
    "    \"users\": At_Least_u,\n",
    "    \"top_10_topics\": Most_Visit_Topic_Id,\n",
    "}\n",
    "\n",
    "with open(\"result.json\", \"w\") as f:\n",
    "    json.dump(data, f)"
   ]
  },
  {
   "cell_type": "markdown",
   "id": "af3ad8d5-78d0-4513-88d7-f6898711fd0d",
   "metadata": {},
   "source": [
    "### RESULT"
   ]
  },
  {
   "cell_type": "code",
   "execution_count": 100,
   "id": "af121070-f6d5-4cd7-9287-ad661f369d54",
   "metadata": {
    "tags": []
   },
   "outputs": [
    {
     "data": {
      "text/plain": [
       "{'top_10_documents': [1811567,\n",
       "  234,\n",
       "  42744,\n",
       "  1858440,\n",
       "  1780813,\n",
       "  60164,\n",
       "  1790442,\n",
       "  1877626,\n",
       "  1821895,\n",
       "  732651],\n",
       " 'users': 98080,\n",
       " 'top_10_topics': [20, 16, 216, 136, 140, 143, 36, 97, 8, 269]}"
      ]
     },
     "execution_count": 100,
     "metadata": {},
     "output_type": "execute_result"
    }
   ],
   "source": [
    "data"
   ]
  },
  {
   "cell_type": "markdown",
   "id": "682c03e8-ae38-4456-a6be-4b46ad3524ca",
   "metadata": {},
   "source": [
    "### Grading"
   ]
  },
  {
   "cell_type": "code",
   "execution_count": 101,
   "id": "ead9e308-6d3a-482e-b7d0-7b436c943528",
   "metadata": {
    "tags": []
   },
   "outputs": [
    {
     "name": "stdout",
     "output_type": "stream",
     "text": [
      "1.0\n",
      "Well done!\n"
     ]
    }
   ],
   "source": [
    "!curl -F file=@result.json \"51.250.54.133:80/MDS-LSML1/unknown_32/w4/1\""
   ]
  }
 ],
 "metadata": {
  "kernelspec": {
   "display_name": "Python 3 (ipykernel)",
   "language": "python",
   "name": "python3"
  },
  "language_info": {
   "codemirror_mode": {
    "name": "ipython",
    "version": 3
   },
   "file_extension": ".py",
   "mimetype": "text/x-python",
   "name": "python",
   "nbconvert_exporter": "python",
   "pygments_lexer": "ipython3",
   "version": "3.10.9"
  }
 },
 "nbformat": 4,
 "nbformat_minor": 5
}
